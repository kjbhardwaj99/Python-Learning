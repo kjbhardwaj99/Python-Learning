{
 "cells": [
  {
   "cell_type": "code",
   "execution_count": 150,
   "id": "e278d8c1-0bbf-4a94-8108-780d60b6eb13",
   "metadata": {},
   "outputs": [
    {
     "name": "stdout",
     "output_type": "stream",
     "text": [
      "Welcome to Tic Tac Toe!\n"
     ]
    },
    {
     "name": "stdin",
     "output_type": "stream",
     "text": [
      "Player1 choose X or O :  fe\n",
      "Player1 choose X or O :  x\n"
     ]
    },
    {
     "name": "stdout",
     "output_type": "stream",
     "text": [
      "player 1 will go first\n"
     ]
    },
    {
     "name": "stdin",
     "output_type": "stream",
     "text": [
      "Ready to Play? Y or N n\n",
      "Play again? Yes or No  h\n"
     ]
    },
    {
     "name": "stdout",
     "output_type": "stream",
     "text": [
      "Thankyou for Playing\n"
     ]
    }
   ],
   "source": [
    "# RUN THE CELL TO PLAY\n",
    "Tik_Tac_Toe()"
   ]
  },
  {
   "cell_type": "markdown",
   "id": "e33d43b6-cfd4-4990-a997-b064b462b1ad",
   "metadata": {},
   "source": [
    "# Game Function"
   ]
  },
  {
   "cell_type": "code",
   "execution_count": 147,
   "id": "c49dc71f-f4e9-434c-a755-88c6b7472d56",
   "metadata": {},
   "outputs": [],
   "source": [
    "from IPython.display import clear_output\n",
    "\n",
    "def display_board(board):\n",
    "    clear_output()\n",
    "    print(board[7]+' | '+board[8]+' | '+board[9])\n",
    "    print('-'*6)\n",
    "    print(board[4]+' | '+board[5]+' | '+board[6])\n",
    "    print('-'*6)\n",
    "    print(board[1]+' | '+board[2]+' | '+board[3])\n",
    "    "
   ]
  },
  {
   "cell_type": "code",
   "execution_count": 135,
   "id": "9d49add2-b23f-48d1-97b7-908b45b1f429",
   "metadata": {},
   "outputs": [],
   "source": [
    "def player_input():\n",
    "\n",
    "    marker=''\n",
    "\n",
    "    while marker not in ['X','O']:\n",
    "        marker=input('Player1 choose X or O : ').upper()\n",
    "    if marker=='X':\n",
    "        return ('X','O')\n",
    "    else:\n",
    "        return ('O','X')"
   ]
  },
  {
   "cell_type": "code",
   "execution_count": 136,
   "id": "9acf5854-2b2a-4288-84cf-55fa2d3650ee",
   "metadata": {},
   "outputs": [],
   "source": [
    "def place_marker(board, marker, position):\n",
    "    board[position]=marker\n",
    "    "
   ]
  },
  {
   "cell_type": "code",
   "execution_count": 137,
   "id": "34404782-b33a-4b47-afad-c42299dea237",
   "metadata": {},
   "outputs": [],
   "source": [
    "def win_check(board, mark):\n",
    "\n",
    "    #ROWS\n",
    "    return ((board[1]==board[2]==board[3]==mark) or\n",
    "    (board[4]==board[5]==board[6]==mark) or\n",
    "    (board[7]==board[8]==board[9]==mark) or\n",
    "\n",
    "    #COLUMNS\n",
    "    (board[1]==board[4]==board[7]==mark) or\n",
    "    (board[2]==board[5]==board[8]==mark) or\n",
    "    (board[3]==board[6]==board[9]==mark) or\n",
    "\n",
    "    #DIAGONAL\n",
    "    (board[1]==board[5]==board[9]==mark) or\n",
    "    (board[3]==board[5]==board[7]==mark)) \n",
    "    "
   ]
  },
  {
   "cell_type": "code",
   "execution_count": 138,
   "id": "ceb67096-4acc-42cd-9b33-aa8ebc99b0c5",
   "metadata": {},
   "outputs": [],
   "source": [
    "import random\n",
    "\n",
    "def choose_first():\n",
    "    flip=random.randint(0,1)\n",
    "\n",
    "    if flip==0:\n",
    "        return 'player 1'\n",
    "    else:\n",
    "        return 'Player 2'\n"
   ]
  },
  {
   "cell_type": "code",
   "execution_count": 139,
   "id": "87df10b0-fbff-46a2-b595-accdc506bedf",
   "metadata": {},
   "outputs": [],
   "source": [
    "def space_check(board, position):\n",
    "    return board[position]==''\n",
    "        \n",
    "    "
   ]
  },
  {
   "cell_type": "code",
   "execution_count": 140,
   "id": "11366713-1766-4571-94ab-70da7d02bd76",
   "metadata": {},
   "outputs": [],
   "source": [
    "def full_board_check(board):\n",
    "\n",
    "    for i in range(1,10):\n",
    "        if space_check(board, i):\n",
    "            return False\n",
    "    return True\n",
    "    "
   ]
  },
  {
   "cell_type": "code",
   "execution_count": 141,
   "id": "d92452d4-a39f-4a9d-9ad1-c895b8f628fa",
   "metadata": {},
   "outputs": [],
   "source": [
    "def player_choice(board):\n",
    "    position=0\n",
    "\n",
    "    while position not in range(1,10) or not space_check(board,position):\n",
    "        position=int(input('Choose a position (1-9)'))\n",
    "\n",
    "    return position\n",
    "    \n",
    "    "
   ]
  },
  {
   "cell_type": "code",
   "execution_count": 142,
   "id": "90f680cc-1a15-4649-a8e5-ed845c75a7ca",
   "metadata": {},
   "outputs": [],
   "source": [
    "def replay():\n",
    "    choice=input('Play again? Yes or No ')\n",
    "    return choice=='Yes'\n",
    "    \n",
    "    "
   ]
  },
  {
   "cell_type": "code",
   "execution_count": 145,
   "id": "83565ecf-4c03-4537-878e-1f73b2f7d7b0",
   "metadata": {},
   "outputs": [],
   "source": [
    "def Tik_Tac_Toe():\n",
    "    print('Welcome to Tic Tac Toe!')\n",
    "    \n",
    "    while True:\n",
    "\n",
    "        #INITIALISING\n",
    "        the_board=['']*10\n",
    "        p1,p2=player_input()\n",
    "    \n",
    "        turn=choose_first()\n",
    "        print(turn+' will go first')\n",
    "\n",
    "       \n",
    "        game_play=input(\"Ready to Play? Y or N\").upper()\n",
    "        if game_play=='Y':\n",
    "            game_on=True\n",
    "        else:\n",
    "            game_on=False\n",
    "\n",
    "        # GAME LOGIC PLAYER1\n",
    "        while game_on:\n",
    "            if turn=='player 1':\n",
    "                display_board(the_board)\n",
    "                position=player_choice(the_board)\n",
    "                place_marker(the_board,p1,position)\n",
    "    \n",
    "                #CHECKING IF WON\n",
    "                if win_check(the_board,p1):\n",
    "                    display_board(the_board)\n",
    "                    print('Player 1 WON')\n",
    "                    game_on=False\n",
    "                #CHECKING IF TIE\n",
    "                elif full_board_check(the_board):\n",
    "                    display_board(the_board)\n",
    "                    print('Its a tie')\n",
    "                    game_on=False\n",
    "                else:\n",
    "                    turn='player 2'\n",
    "\n",
    "            # GAME LOGIC PLAYER2\n",
    "            else:\n",
    "                display_board(the_board)\n",
    "                position=player_choice(the_board)\n",
    "                place_marker(the_board,p2,position)\n",
    "    \n",
    "                #CHECKING IF WON\n",
    "                if win_check(the_board,p2):\n",
    "                    display_board(the_board)\n",
    "                    print('Player 2 WON')\n",
    "                    game_on=False\n",
    "                #CHECKING IF TIE\n",
    "                elif full_board_check(the_board):\n",
    "                    display_board(the_board)\n",
    "                    print('Its a tie')\n",
    "                    game_on==False\n",
    "                else:\n",
    "                    turn='player 1'\n",
    "        #CHECKING IF WANT TO REPLAY\n",
    "        if not replay():\n",
    "            print('Thankyou for Playing')\n",
    "            break"
   ]
  }
 ],
 "metadata": {
  "kernelspec": {
   "display_name": "Python 3 (ipykernel)",
   "language": "python",
   "name": "python3"
  },
  "language_info": {
   "codemirror_mode": {
    "name": "ipython",
    "version": 3
   },
   "file_extension": ".py",
   "mimetype": "text/x-python",
   "name": "python",
   "nbconvert_exporter": "python",
   "pygments_lexer": "ipython3",
   "version": "3.11.7"
  }
 },
 "nbformat": 4,
 "nbformat_minor": 5
}
